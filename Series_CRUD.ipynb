{
 "cells": [
  {
   "cell_type": "markdown",
   "id": "edb4abe7",
   "metadata": {},
   "source": [
    "# CREATING SERIES"
   ]
  },
  {
   "cell_type": "code",
   "execution_count": 1,
   "id": "d068ca9b",
   "metadata": {},
   "outputs": [
    {
     "data": {
      "text/plain": [
       "class_7     85\n",
       "class_8     61\n",
       "class_9     81\n",
       "class_10    74\n",
       "class_12    94\n",
       "Name: my_percentages, dtype: int64"
      ]
     },
     "execution_count": 1,
     "metadata": {},
     "output_type": "execute_result"
    }
   ],
   "source": [
    "import pandas as pd\n",
    "shahzaib = pd.Series([85,61,81,74,94],\n",
    "                     name = \"my_percentages\",\n",
    "                     index = ['class_7', 'class_8','class_9','class_10','class_12'])\n",
    "shahzaib"
   ]
  },
  {
   "cell_type": "markdown",
   "id": "09f912c8",
   "metadata": {},
   "source": [
    "# READING\n"
   ]
  },
  {
   "cell_type": "code",
   "execution_count": 2,
   "id": "9492c3e8",
   "metadata": {},
   "outputs": [
    {
     "data": {
      "text/plain": [
       "False"
      ]
     },
     "execution_count": 2,
     "metadata": {},
     "output_type": "execute_result"
    }
   ],
   "source": [
    "85 in shahzaib"
   ]
  },
  {
   "cell_type": "code",
   "execution_count": 3,
   "id": "e7b34264",
   "metadata": {},
   "outputs": [
    {
     "data": {
      "text/plain": [
       "True"
      ]
     },
     "execution_count": 3,
     "metadata": {},
     "output_type": "execute_result"
    }
   ],
   "source": [
    "'class_7'in shahzaib"
   ]
  },
  {
   "cell_type": "code",
   "execution_count": 4,
   "id": "81b0d3ee",
   "metadata": {},
   "outputs": [
    {
     "data": {
      "text/plain": [
       "True"
      ]
     },
     "execution_count": 4,
     "metadata": {},
     "output_type": "execute_result"
    }
   ],
   "source": [
    "85 in set(shahzaib)"
   ]
  },
  {
   "cell_type": "code",
   "execution_count": 5,
   "id": "ce71aca8",
   "metadata": {},
   "outputs": [
    {
     "data": {
      "text/plain": [
       "True"
      ]
     },
     "execution_count": 5,
     "metadata": {},
     "output_type": "execute_result"
    }
   ],
   "source": [
    "85 in shahzaib.values"
   ]
  },
  {
   "cell_type": "markdown",
   "id": "3d1ebaf6",
   "metadata": {},
   "source": [
    "## ` remember that in a series, although iteration is over the values of the series, membership is over the index names`"
   ]
  },
  {
   "cell_type": "markdown",
   "id": "b6899d42",
   "metadata": {},
   "source": [
    "# UPDATING\n"
   ]
  },
  {
   "cell_type": "code",
   "execution_count": 6,
   "id": "c3939f8e",
   "metadata": {},
   "outputs": [],
   "source": [
    "shahzaib[\"class_11\"] = 88"
   ]
  },
  {
   "cell_type": "code",
   "execution_count": 7,
   "id": "66e91f9d",
   "metadata": {},
   "outputs": [
    {
     "data": {
      "text/plain": [
       "88"
      ]
     },
     "execution_count": 7,
     "metadata": {},
     "output_type": "execute_result"
    }
   ],
   "source": [
    "shahzaib['class_11']"
   ]
  },
  {
   "cell_type": "code",
   "execution_count": 8,
   "id": "c3169e5d",
   "metadata": {},
   "outputs": [
    {
     "data": {
      "text/plain": [
       "class_7     85\n",
       "class_8     61\n",
       "class_9     81\n",
       "class_10    74\n",
       "class_12    94\n",
       "class_11    88\n",
       "Name: my_percentages, dtype: int64"
      ]
     },
     "execution_count": 8,
     "metadata": {},
     "output_type": "execute_result"
    }
   ],
   "source": [
    "shahzaib"
   ]
  },
  {
   "cell_type": "markdown",
   "id": "df4d251e",
   "metadata": {},
   "source": [
    "` To update values based purely on position, perform an index assignment of\n",
    "the .iloc attribute:`"
   ]
  },
  {
   "cell_type": "code",
   "execution_count": 10,
   "id": "4e556356",
   "metadata": {},
   "outputs": [
    {
     "data": {
      "text/plain": [
       "class_7     85\n",
       "class_8     61\n",
       "class_9     81\n",
       "class_10    84\n",
       "class_12    94\n",
       "class_11    88\n",
       "Name: my_percentages, dtype: int64"
      ]
     },
     "execution_count": 10,
     "metadata": {},
     "output_type": "execute_result"
    }
   ],
   "source": [
    "shahzaib.iloc[3] = 84\n",
    "shahzaib"
   ]
  },
  {
   "cell_type": "markdown",
   "id": "c930220d",
   "metadata": {},
   "source": [
    "## Series Indexing"
   ]
  },
  {
   "cell_type": "code",
   "execution_count": 11,
   "id": "5bacdde0",
   "metadata": {},
   "outputs": [
    {
     "data": {
      "text/plain": [
       "1968    10\n",
       "1969     7\n",
       "Name: George Songs, dtype: int64"
      ]
     },
     "execution_count": 11,
     "metadata": {},
     "output_type": "execute_result"
    }
   ],
   "source": [
    "george = pd.Series([10, 7],index=['1968', '1969'], name='George Songs')\n",
    "george"
   ]
  },
  {
   "cell_type": "code",
   "execution_count": 12,
   "id": "517af8a4",
   "metadata": {},
   "outputs": [],
   "source": [
    "dupe = pd.Series([10, 2, 7],index=['1968', '1968', '1969'],name='George Songs')"
   ]
  },
  {
   "cell_type": "code",
   "execution_count": 14,
   "id": "80150a0f",
   "metadata": {},
   "outputs": [
    {
     "data": {
      "text/plain": [
       "False"
      ]
     },
     "execution_count": 14,
     "metadata": {},
     "output_type": "execute_result"
    }
   ],
   "source": [
    "dupe.index.is_unique"
   ]
  },
  {
   "cell_type": "markdown",
   "id": "b8167f42",
   "metadata": {},
   "source": [
    "`If the index is already using integer labels, then the fallback to\n",
    "position based indexing does not work`"
   ]
  },
  {
   "cell_type": "code",
   "execution_count": 18,
   "id": "3d5f178f",
   "metadata": {},
   "outputs": [
    {
     "ename": "KeyError",
     "evalue": "0",
     "output_type": "error",
     "traceback": [
      "\u001b[1;31m---------------------------------------------------------------------------\u001b[0m",
      "\u001b[1;31mKeyError\u001b[0m                                  Traceback (most recent call last)",
      "File \u001b[1;32m~\\anaconda3\\lib\\site-packages\\pandas\\core\\indexes\\base.py:3802\u001b[0m, in \u001b[0;36mIndex.get_loc\u001b[1;34m(self, key, method, tolerance)\u001b[0m\n\u001b[0;32m   3801\u001b[0m \u001b[38;5;28;01mtry\u001b[39;00m:\n\u001b[1;32m-> 3802\u001b[0m     \u001b[38;5;28;01mreturn\u001b[39;00m \u001b[38;5;28;43mself\u001b[39;49m\u001b[38;5;241;43m.\u001b[39;49m\u001b[43m_engine\u001b[49m\u001b[38;5;241;43m.\u001b[39;49m\u001b[43mget_loc\u001b[49m\u001b[43m(\u001b[49m\u001b[43mcasted_key\u001b[49m\u001b[43m)\u001b[49m\n\u001b[0;32m   3803\u001b[0m \u001b[38;5;28;01mexcept\u001b[39;00m \u001b[38;5;167;01mKeyError\u001b[39;00m \u001b[38;5;28;01mas\u001b[39;00m err:\n",
      "File \u001b[1;32m~\\anaconda3\\lib\\site-packages\\pandas\\_libs\\index.pyx:138\u001b[0m, in \u001b[0;36mpandas._libs.index.IndexEngine.get_loc\u001b[1;34m()\u001b[0m\n",
      "File \u001b[1;32m~\\anaconda3\\lib\\site-packages\\pandas\\_libs\\index.pyx:165\u001b[0m, in \u001b[0;36mpandas._libs.index.IndexEngine.get_loc\u001b[1;34m()\u001b[0m\n",
      "File \u001b[1;32mpandas\\_libs\\hashtable_class_helper.pxi:2263\u001b[0m, in \u001b[0;36mpandas._libs.hashtable.Int64HashTable.get_item\u001b[1;34m()\u001b[0m\n",
      "File \u001b[1;32mpandas\\_libs\\hashtable_class_helper.pxi:2273\u001b[0m, in \u001b[0;36mpandas._libs.hashtable.Int64HashTable.get_item\u001b[1;34m()\u001b[0m\n",
      "\u001b[1;31mKeyError\u001b[0m: 0",
      "\nThe above exception was the direct cause of the following exception:\n",
      "\u001b[1;31mKeyError\u001b[0m                                  Traceback (most recent call last)",
      "Cell \u001b[1;32mIn[18], line 2\u001b[0m\n\u001b[0;32m      1\u001b[0m george_i \u001b[38;5;241m=\u001b[39m pd\u001b[38;5;241m.\u001b[39mSeries([\u001b[38;5;241m10\u001b[39m, \u001b[38;5;241m7\u001b[39m],index\u001b[38;5;241m=\u001b[39m[\u001b[38;5;241m1968\u001b[39m, \u001b[38;5;241m1969\u001b[39m],name\u001b[38;5;241m=\u001b[39m\u001b[38;5;124m'\u001b[39m\u001b[38;5;124mGeorge Songs\u001b[39m\u001b[38;5;124m'\u001b[39m)\n\u001b[1;32m----> 2\u001b[0m \u001b[43mgeorge_i\u001b[49m\u001b[43m[\u001b[49m\u001b[38;5;241;43m0\u001b[39;49m\u001b[43m]\u001b[49m\n",
      "File \u001b[1;32m~\\anaconda3\\lib\\site-packages\\pandas\\core\\series.py:981\u001b[0m, in \u001b[0;36mSeries.__getitem__\u001b[1;34m(self, key)\u001b[0m\n\u001b[0;32m    978\u001b[0m     \u001b[38;5;28;01mreturn\u001b[39;00m \u001b[38;5;28mself\u001b[39m\u001b[38;5;241m.\u001b[39m_values[key]\n\u001b[0;32m    980\u001b[0m \u001b[38;5;28;01melif\u001b[39;00m key_is_scalar:\n\u001b[1;32m--> 981\u001b[0m     \u001b[38;5;28;01mreturn\u001b[39;00m \u001b[38;5;28;43mself\u001b[39;49m\u001b[38;5;241;43m.\u001b[39;49m\u001b[43m_get_value\u001b[49m\u001b[43m(\u001b[49m\u001b[43mkey\u001b[49m\u001b[43m)\u001b[49m\n\u001b[0;32m    983\u001b[0m \u001b[38;5;28;01mif\u001b[39;00m is_hashable(key):\n\u001b[0;32m    984\u001b[0m     \u001b[38;5;66;03m# Otherwise index.get_value will raise InvalidIndexError\u001b[39;00m\n\u001b[0;32m    985\u001b[0m     \u001b[38;5;28;01mtry\u001b[39;00m:\n\u001b[0;32m    986\u001b[0m         \u001b[38;5;66;03m# For labels that don't resolve as scalars like tuples and frozensets\u001b[39;00m\n",
      "File \u001b[1;32m~\\anaconda3\\lib\\site-packages\\pandas\\core\\series.py:1089\u001b[0m, in \u001b[0;36mSeries._get_value\u001b[1;34m(self, label, takeable)\u001b[0m\n\u001b[0;32m   1086\u001b[0m     \u001b[38;5;28;01mreturn\u001b[39;00m \u001b[38;5;28mself\u001b[39m\u001b[38;5;241m.\u001b[39m_values[label]\n\u001b[0;32m   1088\u001b[0m \u001b[38;5;66;03m# Similar to Index.get_value, but we do not fall back to positional\u001b[39;00m\n\u001b[1;32m-> 1089\u001b[0m loc \u001b[38;5;241m=\u001b[39m \u001b[38;5;28;43mself\u001b[39;49m\u001b[38;5;241;43m.\u001b[39;49m\u001b[43mindex\u001b[49m\u001b[38;5;241;43m.\u001b[39;49m\u001b[43mget_loc\u001b[49m\u001b[43m(\u001b[49m\u001b[43mlabel\u001b[49m\u001b[43m)\u001b[49m\n\u001b[0;32m   1090\u001b[0m \u001b[38;5;28;01mreturn\u001b[39;00m \u001b[38;5;28mself\u001b[39m\u001b[38;5;241m.\u001b[39mindex\u001b[38;5;241m.\u001b[39m_get_values_for_loc(\u001b[38;5;28mself\u001b[39m, loc, label)\n",
      "File \u001b[1;32m~\\anaconda3\\lib\\site-packages\\pandas\\core\\indexes\\base.py:3804\u001b[0m, in \u001b[0;36mIndex.get_loc\u001b[1;34m(self, key, method, tolerance)\u001b[0m\n\u001b[0;32m   3802\u001b[0m     \u001b[38;5;28;01mreturn\u001b[39;00m \u001b[38;5;28mself\u001b[39m\u001b[38;5;241m.\u001b[39m_engine\u001b[38;5;241m.\u001b[39mget_loc(casted_key)\n\u001b[0;32m   3803\u001b[0m \u001b[38;5;28;01mexcept\u001b[39;00m \u001b[38;5;167;01mKeyError\u001b[39;00m \u001b[38;5;28;01mas\u001b[39;00m err:\n\u001b[1;32m-> 3804\u001b[0m     \u001b[38;5;28;01mraise\u001b[39;00m \u001b[38;5;167;01mKeyError\u001b[39;00m(key) \u001b[38;5;28;01mfrom\u001b[39;00m \u001b[38;5;21;01merr\u001b[39;00m\n\u001b[0;32m   3805\u001b[0m \u001b[38;5;28;01mexcept\u001b[39;00m \u001b[38;5;167;01mTypeError\u001b[39;00m:\n\u001b[0;32m   3806\u001b[0m     \u001b[38;5;66;03m# If we have a listlike key, _check_indexing_error will raise\u001b[39;00m\n\u001b[0;32m   3807\u001b[0m     \u001b[38;5;66;03m#  InvalidIndexError. Otherwise we fall through and re-raise\u001b[39;00m\n\u001b[0;32m   3808\u001b[0m     \u001b[38;5;66;03m#  the TypeError.\u001b[39;00m\n\u001b[0;32m   3809\u001b[0m     \u001b[38;5;28mself\u001b[39m\u001b[38;5;241m.\u001b[39m_check_indexing_error(key)\n",
      "\u001b[1;31mKeyError\u001b[0m: 0"
     ]
    }
   ],
   "source": [
    "george_i = pd.Series([10, 7],index=[1968, 1969],name='George Songs')\n",
    "george_i[0]\n"
   ]
  },
  {
   "cell_type": "code",
   "execution_count": null,
   "id": "dcb694c0",
   "metadata": {},
   "outputs": [],
   "source": []
  }
 ],
 "metadata": {
  "kernelspec": {
   "display_name": "Python 3 (ipykernel)",
   "language": "python",
   "name": "python3"
  },
  "language_info": {
   "codemirror_mode": {
    "name": "ipython",
    "version": 3
   },
   "file_extension": ".py",
   "mimetype": "text/x-python",
   "name": "python",
   "nbconvert_exporter": "python",
   "pygments_lexer": "ipython3",
   "version": "3.10.9"
  }
 },
 "nbformat": 4,
 "nbformat_minor": 5
}
