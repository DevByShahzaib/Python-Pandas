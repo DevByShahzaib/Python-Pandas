{
 "cells": [
  {
   "cell_type": "code",
   "execution_count": 1,
   "id": "ef3ee78f",
   "metadata": {},
   "outputs": [
    {
     "data": {
      "text/plain": [
       "38"
      ]
     },
     "execution_count": 1,
     "metadata": {},
     "output_type": "execute_result"
    }
   ],
   "source": [
    "ser = {\n",
    " 'index':[0, 1, 2, 3],\n",
    " 'data':[145, 142, 38, 13],\n",
    " 'name':'songs'\n",
    " }\n",
    "\n",
    "def get(ser,idx):\n",
    "    value_idx = ser['index'].index(idx)\n",
    "    return ser['data'][value_idx]\n",
    "\n",
    "\n",
    "get(ser,2)    "
   ]
  },
  {
   "cell_type": "code",
   "execution_count": 2,
   "id": "56caeb20",
   "metadata": {},
   "outputs": [
    {
     "data": {
      "text/plain": [
       "149"
      ]
     },
     "execution_count": 2,
     "metadata": {},
     "output_type": "execute_result"
    }
   ],
   "source": [
    "songs = {\n",
    "    \"index\" : ['paul','john','george','ringo'],\n",
    "    'data' : [145,149,67,34],\n",
    "    'name':'counts'\n",
    "}\n",
    "\n",
    "get(songs,\"john\")"
   ]
  },
  {
   "cell_type": "code",
   "execution_count": 3,
   "id": "7981c70b",
   "metadata": {},
   "outputs": [],
   "source": [
    "import pandas as pd"
   ]
  },
  {
   "cell_type": "code",
   "execution_count": 4,
   "id": "a8c2ef9c",
   "metadata": {},
   "outputs": [
    {
     "data": {
      "text/plain": [
       "4    145\n",
       "5     12\n",
       "6     34\n",
       "7     67\n",
       "Name: counts, dtype: int64"
      ]
     },
     "execution_count": 4,
     "metadata": {},
     "output_type": "execute_result"
    }
   ],
   "source": [
    "songs2 = pd.Series([145,12,34,67],index = [4,5,6,7],\n",
    "                  name='counts')\n",
    "songs2"
   ]
  },
  {
   "cell_type": "code",
   "execution_count": 5,
   "id": "1f7d7e68",
   "metadata": {},
   "outputs": [
    {
     "data": {
      "text/plain": [
       "Int64Index([4, 5, 6, 7], dtype='int64')"
      ]
     },
     "execution_count": 5,
     "metadata": {},
     "output_type": "execute_result"
    }
   ],
   "source": [
    "songs2.index"
   ]
  },
  {
   "cell_type": "code",
   "execution_count": 6,
   "id": "40579208",
   "metadata": {},
   "outputs": [
    {
     "data": {
      "text/plain": [
       "Paul      145\n",
       "John      142\n",
       "George     38\n",
       "Ringo      13\n",
       "Name: counts, dtype: int64"
      ]
     },
     "execution_count": 6,
     "metadata": {},
     "output_type": "execute_result"
    }
   ],
   "source": [
    "songs3 = pd.Series([145, 142, 38, 13],\n",
    "name='counts',\n",
    "index=['Paul', 'John', 'George', 'Ringo'])\n",
    "\n",
    "songs3"
   ]
  },
  {
   "cell_type": "code",
   "execution_count": 7,
   "id": "34516c05",
   "metadata": {},
   "outputs": [
    {
     "data": {
      "text/plain": [
       "Index(['Paul', 'John', 'George', 'Ringo'], dtype='object')"
      ]
     },
     "execution_count": 7,
     "metadata": {},
     "output_type": "execute_result"
    }
   ],
   "source": [
    "songs3.index"
   ]
  },
  {
   "cell_type": "code",
   "execution_count": 8,
   "id": "86f96c4c",
   "metadata": {},
   "outputs": [],
   "source": [
    "# page_17"
   ]
  },
  {
   "cell_type": "code",
   "execution_count": 9,
   "id": "467dbb26",
   "metadata": {},
   "outputs": [
    {
     "data": {
      "text/plain": [
       "0                                        Richard\n",
       "1                                       Shahzaib\n",
       "2                                              9\n",
       "3    <__main__.foo object at 0x000001323E85D150>\n",
       "Name: ringo, dtype: object"
      ]
     },
     "execution_count": 9,
     "metadata": {},
     "output_type": "execute_result"
    }
   ],
   "source": [
    "class foo:\n",
    "    pass\n",
    "\n",
    "\n",
    "ringo = pd.Series(\n",
    "                    ['Richard', \"Shahzaib\", 9, foo()],\n",
    "                    name = \"ringo\")\n",
    "\n",
    "ringo"
   ]
  },
  {
   "cell_type": "markdown",
   "id": "49c22974",
   "metadata": {},
   "source": [
    "## The NAN value"
   ]
  },
  {
   "cell_type": "code",
   "execution_count": 10,
   "id": "451fa0f2",
   "metadata": {},
   "outputs": [
    {
     "data": {
      "text/plain": [
       "0ho         13.0\n",
       "Claption     NaN\n",
       "dtype: float64"
      ]
     },
     "execution_count": 10,
     "metadata": {},
     "output_type": "execute_result"
    }
   ],
   "source": [
    "nan_ser = pd.Series([13,None], index = ['0ho','Claption'])\n",
    "nan_ser\n",
    "\n",
    "# One thing to note is that the type of this series is float64, not int64!\n",
    "# This is because the only numeric column that supports NaN is the float\n",
    "# column. When pandas sees numeric data (2) as well as the None, it\n",
    "# coerced the 2 to a float value"
   ]
  },
  {
   "cell_type": "code",
   "execution_count": 11,
   "id": "0632666f",
   "metadata": {},
   "outputs": [
    {
     "name": "stdout",
     "output_type": "stream",
     "text": [
      "1\n",
      "nan\n",
      "13.0\n"
     ]
    }
   ],
   "source": [
    "print(nan_ser.count())\n",
    "print(nan_ser['Claption'])\n",
    "print(nan_ser['0ho'])"
   ]
  },
  {
   "cell_type": "code",
   "execution_count": 16,
   "id": "9ea33f71",
   "metadata": {},
   "outputs": [
    {
     "data": {
      "text/plain": [
       "84.5"
      ]
     },
     "execution_count": 16,
     "metadata": {},
     "output_type": "execute_result"
    }
   ],
   "source": [
    "songs3[1]\n",
    "songs3[\"John\"]\n",
    "songs3.mean()"
   ]
  },
  {
   "cell_type": "code",
   "execution_count": 18,
   "id": "7c4b997a",
   "metadata": {},
   "outputs": [
    {
     "data": {
      "text/plain": [
       "Paul      145\n",
       "John      142\n",
       "George     38\n",
       "Ringo      13\n",
       "Name: counts, dtype: int64"
      ]
     },
     "execution_count": 18,
     "metadata": {},
     "output_type": "execute_result"
    }
   ],
   "source": [
    "songs3"
   ]
  },
  {
   "cell_type": "code",
   "execution_count": 20,
   "id": "41451df8",
   "metadata": {},
   "outputs": [
    {
     "data": {
      "text/plain": [
       "Paul       True\n",
       "John       True\n",
       "George    False\n",
       "Ringo     False\n",
       "Name: counts, dtype: bool"
      ]
     },
     "execution_count": 20,
     "metadata": {},
     "output_type": "execute_result"
    }
   ],
   "source": [
    "mask = songs3  > songs3.median()\n",
    "mask"
   ]
  },
  {
   "cell_type": "code",
   "execution_count": 21,
   "id": "4b6cb16f",
   "metadata": {},
   "outputs": [
    {
     "data": {
      "text/plain": [
       "Paul    145\n",
       "John    142\n",
       "Name: counts, dtype: int64"
      ]
     },
     "execution_count": 21,
     "metadata": {},
     "output_type": "execute_result"
    }
   ],
   "source": [
    "songs3[mask]"
   ]
  },
  {
   "cell_type": "code",
   "execution_count": null,
   "id": "402f48b9",
   "metadata": {},
   "outputs": [],
   "source": []
  }
 ],
 "metadata": {
  "kernelspec": {
   "display_name": "Python 3 (ipykernel)",
   "language": "python",
   "name": "python3"
  },
  "language_info": {
   "codemirror_mode": {
    "name": "ipython",
    "version": 3
   },
   "file_extension": ".py",
   "mimetype": "text/x-python",
   "name": "python",
   "nbconvert_exporter": "python",
   "pygments_lexer": "ipython3",
   "version": "3.11.3"
  }
 },
 "nbformat": 4,
 "nbformat_minor": 5
}
